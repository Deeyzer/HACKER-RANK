{
 "cells": [
  {
   "cell_type": "markdown",
   "metadata": {},
   "source": [
    "## 15 DAYS OR LEARNING SQL \n",
    "\n",
    "Nota: debe ejecutarse en MS SQL SERVER"
   ]
  },
  {
   "cell_type": "code",
   "execution_count": null,
   "metadata": {},
   "outputs": [],
   "source": [
    "---------- MS SQL SERVER ----------- \n",
    "\n",
    ";with cte1 as (\n",
    "Select s.hacker_id\n",
    "    , submission_date\n",
    "from submissions s\n",
    "), Recursion1 as (\n",
    "Select Hacker_id, submission_date\n",
    "from cte1\n",
    "where submission_date = '20160301'\n",
    "union all\n",
    "Select s.Hacker_id, s.Submission_date\n",
    "from cte1 c\n",
    "inner join submissions s on s.submission_date = dateadd(day,1,c.submission_date) and s.hacker_id = c.hacker_id\n",
    "where s.submission_date between '20160301' and '20160315'\n",
    "), Recursion2 as (\n",
    "Select Submission_date, Hacker_ID\n",
    "from Recursion1\n",
    "where Submission_date = '20160301'\n",
    "union all\n",
    "Select r1.Submission_date, r1.Hacker_ID\n",
    "from Recursion2 r\n",
    "inner join Recursion1 r1 on r1.submission_date = dateadd(day,1,r.submission_date) and r.hacker_id = r1.hacker_id\n",
    "), MinHackerAndName as (\n",
    "Select dc.Submission_date, dc.[Hacker_SubmissionCount], dc.Hacker_id\n",
    "    ,row_number() over (partition by dc.submission_date order by dc.Submission_date asc, dc.Hacker_SubmissionCount desc, dc.Hacker_id asc) [RN]\n",
    "from (\n",
    "    Select s.Submission_date, s.hacker_id, count(s.Hacker_id)[Hacker_SubmissionCount]\n",
    "    from Submissions s\n",
    "    group by s.submission_date, s.hacker_id) dc\n",
    ")\n",
    "Select r.Submission_date, Count(distinct r.Hacker_id) [HCount]\n",
    "    , h.Hacker_id, h.Name\n",
    "from Recursion2 r\n",
    "inner join MinHackerAndName mhn on mhn.submission_date = r.submission_date and mhn.rn = 1\n",
    "inner join Hackers h on h.Hacker_id = mhn.hacker_id\n",
    "group by r.Submission_date , h.Hacker_id, h.Name\n",
    "Order by r.Submission_date asc\n",
    "\n"
   ]
  }
 ],
 "metadata": {
  "kernelspec": {
   "display_name": "Python 3",
   "language": "python",
   "name": "python3"
  },
  "language_info": {
   "name": "python",
   "version": "3.10.10"
  },
  "orig_nbformat": 4
 },
 "nbformat": 4,
 "nbformat_minor": 2
}
